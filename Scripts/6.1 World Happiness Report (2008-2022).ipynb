{
 "cells": [
  {
   "cell_type": "markdown",
   "id": "e22c4fe1",
   "metadata": {},
   "source": [
    "# This script contains the following points:\n",
    "\n",
    "\n",
    "### 01. Import libraries\n",
    "### 02. Import data\n",
    "### 03. Basic data cleaning and consistency checks"
   ]
  },
  {
   "cell_type": "markdown",
   "id": "9c5a0551",
   "metadata": {},
   "source": [
    "# 01. Import libraries"
   ]
  },
  {
   "cell_type": "code",
   "execution_count": 1,
   "id": "fabf9e19",
   "metadata": {},
   "outputs": [],
   "source": [
    "import pandas as pd\n",
    "import numpy as np\n",
    "import os\n",
    "import matplotlib.pyplot as plt\n",
    "import seaborn as sns\n",
    "import scipy"
   ]
  },
  {
   "cell_type": "markdown",
   "id": "6ec392b8",
   "metadata": {},
   "source": [
    "# 02. Import data"
   ]
  },
  {
   "cell_type": "code",
   "execution_count": 13,
   "id": "c4e9e197",
   "metadata": {},
   "outputs": [],
   "source": [
    "# Set path\n",
    "\n",
    "path = r'C:\\Users\\nang6\\OneDrive\\Bureau\\Data Analytics\\Data Immersion\\Achievement 6'"
   ]
  },
  {
   "cell_type": "code",
   "execution_count": 14,
   "id": "007d550e",
   "metadata": {},
   "outputs": [],
   "source": [
    "# Import data set\n",
    "\n",
    "df = pd.read_csv(os.path.join(path, 'Open Data Source', 'Raw Data', 'WHR 2008-2022.csv'), index_col = False)"
   ]
  },
  {
   "cell_type": "markdown",
   "id": "0e59bde3",
   "metadata": {},
   "source": [
    "# 03. Basic data cleaning and consistency checks"
   ]
  },
  {
   "cell_type": "code",
   "execution_count": 15,
   "id": "3fc48935",
   "metadata": {},
   "outputs": [
    {
     "data": {
      "text/html": [
       "<div>\n",
       "<style scoped>\n",
       "    .dataframe tbody tr th:only-of-type {\n",
       "        vertical-align: middle;\n",
       "    }\n",
       "\n",
       "    .dataframe tbody tr th {\n",
       "        vertical-align: top;\n",
       "    }\n",
       "\n",
       "    .dataframe thead th {\n",
       "        text-align: right;\n",
       "    }\n",
       "</style>\n",
       "<table border=\"1\" class=\"dataframe\">\n",
       "  <thead>\n",
       "    <tr style=\"text-align: right;\">\n",
       "      <th></th>\n",
       "      <th>Country name</th>\n",
       "      <th>Region</th>\n",
       "      <th>Year</th>\n",
       "      <th>Life ladder</th>\n",
       "      <th>Log GDP per capita</th>\n",
       "      <th>Social support</th>\n",
       "      <th>Healthy life expectancy at birth</th>\n",
       "      <th>Freedom to make life choices</th>\n",
       "      <th>Generosity</th>\n",
       "      <th>Perceptions of corruption</th>\n",
       "      <th>Positive affect</th>\n",
       "      <th>Negative affect</th>\n",
       "    </tr>\n",
       "  </thead>\n",
       "  <tbody>\n",
       "    <tr>\n",
       "      <th>0</th>\n",
       "      <td>Afghanistan</td>\n",
       "      <td>Southern Asia</td>\n",
       "      <td>2008</td>\n",
       "      <td>3.724</td>\n",
       "      <td>7.350</td>\n",
       "      <td>0.451</td>\n",
       "      <td>50.5</td>\n",
       "      <td>0.718</td>\n",
       "      <td>0.168</td>\n",
       "      <td>0.882</td>\n",
       "      <td>0.414</td>\n",
       "      <td>0.258</td>\n",
       "    </tr>\n",
       "    <tr>\n",
       "      <th>1</th>\n",
       "      <td>Afghanistan</td>\n",
       "      <td>Southern Asia</td>\n",
       "      <td>2009</td>\n",
       "      <td>4.402</td>\n",
       "      <td>7.509</td>\n",
       "      <td>0.552</td>\n",
       "      <td>50.8</td>\n",
       "      <td>0.679</td>\n",
       "      <td>0.191</td>\n",
       "      <td>0.850</td>\n",
       "      <td>0.481</td>\n",
       "      <td>0.237</td>\n",
       "    </tr>\n",
       "    <tr>\n",
       "      <th>2</th>\n",
       "      <td>Afghanistan</td>\n",
       "      <td>Southern Asia</td>\n",
       "      <td>2010</td>\n",
       "      <td>4.758</td>\n",
       "      <td>7.614</td>\n",
       "      <td>0.539</td>\n",
       "      <td>51.1</td>\n",
       "      <td>0.600</td>\n",
       "      <td>0.121</td>\n",
       "      <td>0.707</td>\n",
       "      <td>0.517</td>\n",
       "      <td>0.275</td>\n",
       "    </tr>\n",
       "    <tr>\n",
       "      <th>3</th>\n",
       "      <td>Afghanistan</td>\n",
       "      <td>Southern Asia</td>\n",
       "      <td>2011</td>\n",
       "      <td>3.832</td>\n",
       "      <td>7.581</td>\n",
       "      <td>0.521</td>\n",
       "      <td>51.4</td>\n",
       "      <td>0.496</td>\n",
       "      <td>0.164</td>\n",
       "      <td>0.731</td>\n",
       "      <td>0.480</td>\n",
       "      <td>0.267</td>\n",
       "    </tr>\n",
       "    <tr>\n",
       "      <th>4</th>\n",
       "      <td>Afghanistan</td>\n",
       "      <td>Southern Asia</td>\n",
       "      <td>2012</td>\n",
       "      <td>3.783</td>\n",
       "      <td>7.661</td>\n",
       "      <td>0.521</td>\n",
       "      <td>51.7</td>\n",
       "      <td>0.531</td>\n",
       "      <td>0.238</td>\n",
       "      <td>0.776</td>\n",
       "      <td>0.614</td>\n",
       "      <td>0.268</td>\n",
       "    </tr>\n",
       "  </tbody>\n",
       "</table>\n",
       "</div>"
      ],
      "text/plain": [
       "  Country name         Region  Year  Life ladder  Log GDP per capita  \\\n",
       "0  Afghanistan  Southern Asia  2008        3.724               7.350   \n",
       "1  Afghanistan  Southern Asia  2009        4.402               7.509   \n",
       "2  Afghanistan  Southern Asia  2010        4.758               7.614   \n",
       "3  Afghanistan  Southern Asia  2011        3.832               7.581   \n",
       "4  Afghanistan  Southern Asia  2012        3.783               7.661   \n",
       "\n",
       "   Social support  Healthy life expectancy at birth  \\\n",
       "0           0.451                              50.5   \n",
       "1           0.552                              50.8   \n",
       "2           0.539                              51.1   \n",
       "3           0.521                              51.4   \n",
       "4           0.521                              51.7   \n",
       "\n",
       "   Freedom to make life choices  Generosity  Perceptions of corruption  \\\n",
       "0                         0.718       0.168                      0.882   \n",
       "1                         0.679       0.191                      0.850   \n",
       "2                         0.600       0.121                      0.707   \n",
       "3                         0.496       0.164                      0.731   \n",
       "4                         0.531       0.238                      0.776   \n",
       "\n",
       "   Positive affect  Negative affect  \n",
       "0            0.414            0.258  \n",
       "1            0.481            0.237  \n",
       "2            0.517            0.275  \n",
       "3            0.480            0.267  \n",
       "4            0.614            0.268  "
      ]
     },
     "execution_count": 15,
     "metadata": {},
     "output_type": "execute_result"
    }
   ],
   "source": [
    "# Check first 5 rows\n",
    "\n",
    "df.head()"
   ]
  },
  {
   "cell_type": "code",
   "execution_count": 16,
   "id": "0956e669",
   "metadata": {},
   "outputs": [
    {
     "data": {
      "text/html": [
       "<div>\n",
       "<style scoped>\n",
       "    .dataframe tbody tr th:only-of-type {\n",
       "        vertical-align: middle;\n",
       "    }\n",
       "\n",
       "    .dataframe tbody tr th {\n",
       "        vertical-align: top;\n",
       "    }\n",
       "\n",
       "    .dataframe thead th {\n",
       "        text-align: right;\n",
       "    }\n",
       "</style>\n",
       "<table border=\"1\" class=\"dataframe\">\n",
       "  <thead>\n",
       "    <tr style=\"text-align: right;\">\n",
       "      <th></th>\n",
       "      <th>Country name</th>\n",
       "      <th>Region</th>\n",
       "      <th>Year</th>\n",
       "      <th>Life ladder</th>\n",
       "      <th>Log GDP per capita</th>\n",
       "      <th>Social support</th>\n",
       "      <th>Healthy life expectancy at birth</th>\n",
       "      <th>Freedom to make life choices</th>\n",
       "      <th>Generosity</th>\n",
       "      <th>Perceptions of corruption</th>\n",
       "      <th>Positive affect</th>\n",
       "      <th>Negative affect</th>\n",
       "    </tr>\n",
       "  </thead>\n",
       "  <tbody>\n",
       "    <tr>\n",
       "      <th>2194</th>\n",
       "      <td>Zimbabwe</td>\n",
       "      <td>Sub-Saharan Africa</td>\n",
       "      <td>2018</td>\n",
       "      <td>3.616</td>\n",
       "      <td>7.783</td>\n",
       "      <td>0.775</td>\n",
       "      <td>52.625</td>\n",
       "      <td>0.763</td>\n",
       "      <td>-0.051</td>\n",
       "      <td>0.844</td>\n",
       "      <td>0.658</td>\n",
       "      <td>0.212</td>\n",
       "    </tr>\n",
       "    <tr>\n",
       "      <th>2195</th>\n",
       "      <td>Zimbabwe</td>\n",
       "      <td>Sub-Saharan Africa</td>\n",
       "      <td>2019</td>\n",
       "      <td>2.694</td>\n",
       "      <td>7.698</td>\n",
       "      <td>0.759</td>\n",
       "      <td>53.100</td>\n",
       "      <td>0.632</td>\n",
       "      <td>-0.047</td>\n",
       "      <td>0.831</td>\n",
       "      <td>0.658</td>\n",
       "      <td>0.235</td>\n",
       "    </tr>\n",
       "    <tr>\n",
       "      <th>2196</th>\n",
       "      <td>Zimbabwe</td>\n",
       "      <td>Sub-Saharan Africa</td>\n",
       "      <td>2020</td>\n",
       "      <td>3.160</td>\n",
       "      <td>7.596</td>\n",
       "      <td>0.717</td>\n",
       "      <td>53.575</td>\n",
       "      <td>0.643</td>\n",
       "      <td>0.006</td>\n",
       "      <td>0.789</td>\n",
       "      <td>0.661</td>\n",
       "      <td>0.346</td>\n",
       "    </tr>\n",
       "    <tr>\n",
       "      <th>2197</th>\n",
       "      <td>Zimbabwe</td>\n",
       "      <td>Sub-Saharan Africa</td>\n",
       "      <td>2021</td>\n",
       "      <td>3.155</td>\n",
       "      <td>7.657</td>\n",
       "      <td>0.685</td>\n",
       "      <td>54.050</td>\n",
       "      <td>0.668</td>\n",
       "      <td>-0.076</td>\n",
       "      <td>0.757</td>\n",
       "      <td>0.610</td>\n",
       "      <td>0.242</td>\n",
       "    </tr>\n",
       "    <tr>\n",
       "      <th>2198</th>\n",
       "      <td>Zimbabwe</td>\n",
       "      <td>Sub-Saharan Africa</td>\n",
       "      <td>2022</td>\n",
       "      <td>3.296</td>\n",
       "      <td>7.670</td>\n",
       "      <td>0.666</td>\n",
       "      <td>54.525</td>\n",
       "      <td>0.652</td>\n",
       "      <td>-0.070</td>\n",
       "      <td>0.753</td>\n",
       "      <td>0.641</td>\n",
       "      <td>0.191</td>\n",
       "    </tr>\n",
       "  </tbody>\n",
       "</table>\n",
       "</div>"
      ],
      "text/plain": [
       "     Country name              Region  Year  Life ladder  Log GDP per capita  \\\n",
       "2194     Zimbabwe  Sub-Saharan Africa  2018        3.616               7.783   \n",
       "2195     Zimbabwe  Sub-Saharan Africa  2019        2.694               7.698   \n",
       "2196     Zimbabwe  Sub-Saharan Africa  2020        3.160               7.596   \n",
       "2197     Zimbabwe  Sub-Saharan Africa  2021        3.155               7.657   \n",
       "2198     Zimbabwe  Sub-Saharan Africa  2022        3.296               7.670   \n",
       "\n",
       "      Social support  Healthy life expectancy at birth  \\\n",
       "2194           0.775                            52.625   \n",
       "2195           0.759                            53.100   \n",
       "2196           0.717                            53.575   \n",
       "2197           0.685                            54.050   \n",
       "2198           0.666                            54.525   \n",
       "\n",
       "      Freedom to make life choices  Generosity  Perceptions of corruption  \\\n",
       "2194                         0.763      -0.051                      0.844   \n",
       "2195                         0.632      -0.047                      0.831   \n",
       "2196                         0.643       0.006                      0.789   \n",
       "2197                         0.668      -0.076                      0.757   \n",
       "2198                         0.652      -0.070                      0.753   \n",
       "\n",
       "      Positive affect  Negative affect  \n",
       "2194            0.658            0.212  \n",
       "2195            0.658            0.235  \n",
       "2196            0.661            0.346  \n",
       "2197            0.610            0.242  \n",
       "2198            0.641            0.191  "
      ]
     },
     "execution_count": 16,
     "metadata": {},
     "output_type": "execute_result"
    }
   ],
   "source": [
    "# Check last 5 rows\n",
    "\n",
    "df.tail()"
   ]
  },
  {
   "cell_type": "markdown",
   "id": "48c268a1",
   "metadata": {},
   "source": [
    "### Renaming Columns:"
   ]
  },
  {
   "cell_type": "code",
   "execution_count": 17,
   "id": "d2e2eb33",
   "metadata": {},
   "outputs": [
    {
     "data": {
      "text/plain": [
       "(2199, 12)"
      ]
     },
     "execution_count": 17,
     "metadata": {},
     "output_type": "execute_result"
    }
   ],
   "source": [
    "# Check rows and columns\n",
    "\n",
    "df.shape"
   ]
  },
  {
   "cell_type": "code",
   "execution_count": 18,
   "id": "1aed462a",
   "metadata": {},
   "outputs": [
    {
     "data": {
      "text/plain": [
       "Index(['Country name', 'Region', 'Year', 'Life ladder', 'Log GDP per capita',\n",
       "       'Social support', 'Healthy life expectancy at birth',\n",
       "       'Freedom to make life choices', 'Generosity',\n",
       "       'Perceptions of corruption', 'Positive affect', 'Negative affect'],\n",
       "      dtype='object')"
      ]
     },
     "execution_count": 18,
     "metadata": {},
     "output_type": "execute_result"
    }
   ],
   "source": [
    "df.columns"
   ]
  },
  {
   "cell_type": "code",
   "execution_count": 19,
   "id": "915b84c2",
   "metadata": {},
   "outputs": [],
   "source": [
    "# Rename columns for shorter and more concise format\n",
    "\n",
    "df.rename(columns = {'Country name' : 'Country',\n",
    "                     'Life ladder': 'Happiness Score', 'Log GDP per capita': 'GDP per Capita', \n",
    "                     'Social support': 'Social Support', 'Healthy life expectancy at birth': 'Life Expectancy',\n",
    "                     'Freedom to make life choices': 'Freedom', 'Generosity': 'Charity',\n",
    "                     'Perceptions of corruption': 'Corruption Perception', 'Positive affect': 'Positive Emotions',\n",
    "                     'Negative affect': 'Negative Emotions'}, inplace = True)"
   ]
  },
  {
   "cell_type": "code",
   "execution_count": 20,
   "id": "1168ff2e",
   "metadata": {},
   "outputs": [
    {
     "name": "stdout",
     "output_type": "stream",
     "text": [
      "<class 'pandas.core.frame.DataFrame'>\n",
      "RangeIndex: 2199 entries, 0 to 2198\n",
      "Data columns (total 12 columns):\n",
      " #   Column                 Non-Null Count  Dtype  \n",
      "---  ------                 --------------  -----  \n",
      " 0   Country                2199 non-null   object \n",
      " 1   Region                 2199 non-null   object \n",
      " 2   Year                   2199 non-null   int64  \n",
      " 3   Happiness Score        2199 non-null   float64\n",
      " 4   GDP per Capita         2179 non-null   float64\n",
      " 5   Social Support         2186 non-null   float64\n",
      " 6   Life Expectancy        2145 non-null   float64\n",
      " 7   Freedom                2166 non-null   float64\n",
      " 8   Charity                2126 non-null   float64\n",
      " 9   Corruption Perception  2083 non-null   float64\n",
      " 10  Positive Emotions      2175 non-null   float64\n",
      " 11  Negative Emotions      2183 non-null   float64\n",
      "dtypes: float64(9), int64(1), object(2)\n",
      "memory usage: 206.3+ KB\n"
     ]
    }
   ],
   "source": [
    "# Check for column names and data types\n",
    "\n",
    "df.info()"
   ]
  },
  {
   "cell_type": "markdown",
   "id": "2d4d7b5c",
   "metadata": {},
   "source": [
    "### Observation:\n",
    "\n",
    "We can already see that there are missing values based on the Non-Null Count"
   ]
  },
  {
   "cell_type": "code",
   "execution_count": 21,
   "id": "3e60ea62",
   "metadata": {},
   "outputs": [
    {
     "data": {
      "text/plain": [
       "Country                    0\n",
       "Region                     0\n",
       "Year                       0\n",
       "Happiness Score            0\n",
       "GDP per Capita            20\n",
       "Social Support            13\n",
       "Life Expectancy           54\n",
       "Freedom                   33\n",
       "Charity                   73\n",
       "Corruption Perception    116\n",
       "Positive Emotions         24\n",
       "Negative Emotions         16\n",
       "dtype: int64"
      ]
     },
     "execution_count": 21,
     "metadata": {},
     "output_type": "execute_result"
    }
   ],
   "source": [
    "# Check for missing values\n",
    "\n",
    "df.isnull().sum()"
   ]
  },
  {
   "cell_type": "markdown",
   "id": "49372d43",
   "metadata": {},
   "source": [
    "#### Observation:\n",
    "\n",
    "I will leave those missing values here for now as depending on the analysis, I will therefore decide if I'd use the mean or delete those missing values."
   ]
  },
  {
   "cell_type": "code",
   "execution_count": 29,
   "id": "e06ca0ab",
   "metadata": {},
   "outputs": [],
   "source": [
    "# Check for duplicates\n",
    "\n",
    "df_dups = df[df.duplicated()]"
   ]
  },
  {
   "cell_type": "code",
   "execution_count": 25,
   "id": "5ee3c764",
   "metadata": {},
   "outputs": [
    {
     "data": {
      "text/plain": [
       "(0, 12)"
      ]
     },
     "execution_count": 25,
     "metadata": {},
     "output_type": "execute_result"
    }
   ],
   "source": [
    "df_dups.shape # No duplicates!"
   ]
  },
  {
   "cell_type": "code",
   "execution_count": 28,
   "id": "82df1c4e",
   "metadata": {},
   "outputs": [],
   "source": [
    "# Check for mixed-type data\n",
    "\n",
    "for col in df.columns.tolist():\n",
    "  weird = (df[[col]].applymap(type) != df[[col]].iloc[0].apply(type)).any(axis = 1)\n",
    "  if len (df[weird]) > 0:\n",
    "    print (col)\n",
    "\n",
    " # No mixed-type columns either!   "
   ]
  },
  {
   "cell_type": "code",
   "execution_count": 30,
   "id": "bca846e9",
   "metadata": {
    "scrolled": true
   },
   "outputs": [
    {
     "data": {
      "text/html": [
       "<div>\n",
       "<style scoped>\n",
       "    .dataframe tbody tr th:only-of-type {\n",
       "        vertical-align: middle;\n",
       "    }\n",
       "\n",
       "    .dataframe tbody tr th {\n",
       "        vertical-align: top;\n",
       "    }\n",
       "\n",
       "    .dataframe thead th {\n",
       "        text-align: right;\n",
       "    }\n",
       "</style>\n",
       "<table border=\"1\" class=\"dataframe\">\n",
       "  <thead>\n",
       "    <tr style=\"text-align: right;\">\n",
       "      <th></th>\n",
       "      <th>Year</th>\n",
       "      <th>Happiness Score</th>\n",
       "      <th>GDP per Capita</th>\n",
       "      <th>Social Support</th>\n",
       "      <th>Life Expectancy</th>\n",
       "      <th>Freedom</th>\n",
       "      <th>Charity</th>\n",
       "      <th>Corruption Perception</th>\n",
       "      <th>Positive Emotions</th>\n",
       "      <th>Negative Emotions</th>\n",
       "    </tr>\n",
       "  </thead>\n",
       "  <tbody>\n",
       "    <tr>\n",
       "      <th>count</th>\n",
       "      <td>2199.000000</td>\n",
       "      <td>2199.000000</td>\n",
       "      <td>2179.000000</td>\n",
       "      <td>2186.000000</td>\n",
       "      <td>2145.000000</td>\n",
       "      <td>2166.000000</td>\n",
       "      <td>2126.000000</td>\n",
       "      <td>2083.000000</td>\n",
       "      <td>2175.000000</td>\n",
       "      <td>2183.000000</td>\n",
       "    </tr>\n",
       "    <tr>\n",
       "      <th>mean</th>\n",
       "      <td>2014.161437</td>\n",
       "      <td>5.479227</td>\n",
       "      <td>9.389760</td>\n",
       "      <td>0.810681</td>\n",
       "      <td>63.294582</td>\n",
       "      <td>0.747847</td>\n",
       "      <td>0.000091</td>\n",
       "      <td>0.745208</td>\n",
       "      <td>0.652148</td>\n",
       "      <td>0.271493</td>\n",
       "    </tr>\n",
       "    <tr>\n",
       "      <th>std</th>\n",
       "      <td>4.718736</td>\n",
       "      <td>1.125527</td>\n",
       "      <td>1.153402</td>\n",
       "      <td>0.120953</td>\n",
       "      <td>6.901104</td>\n",
       "      <td>0.140137</td>\n",
       "      <td>0.161079</td>\n",
       "      <td>0.185835</td>\n",
       "      <td>0.105913</td>\n",
       "      <td>0.086872</td>\n",
       "    </tr>\n",
       "    <tr>\n",
       "      <th>min</th>\n",
       "      <td>2005.000000</td>\n",
       "      <td>1.281000</td>\n",
       "      <td>5.527000</td>\n",
       "      <td>0.228000</td>\n",
       "      <td>6.720000</td>\n",
       "      <td>0.258000</td>\n",
       "      <td>-0.338000</td>\n",
       "      <td>0.035000</td>\n",
       "      <td>0.179000</td>\n",
       "      <td>0.083000</td>\n",
       "    </tr>\n",
       "    <tr>\n",
       "      <th>25%</th>\n",
       "      <td>2010.000000</td>\n",
       "      <td>4.647000</td>\n",
       "      <td>8.500000</td>\n",
       "      <td>0.747000</td>\n",
       "      <td>59.120000</td>\n",
       "      <td>0.656250</td>\n",
       "      <td>-0.112000</td>\n",
       "      <td>0.688000</td>\n",
       "      <td>0.572000</td>\n",
       "      <td>0.208000</td>\n",
       "    </tr>\n",
       "    <tr>\n",
       "      <th>50%</th>\n",
       "      <td>2014.000000</td>\n",
       "      <td>5.432000</td>\n",
       "      <td>9.499000</td>\n",
       "      <td>0.836000</td>\n",
       "      <td>65.050000</td>\n",
       "      <td>0.770000</td>\n",
       "      <td>-0.023000</td>\n",
       "      <td>0.800000</td>\n",
       "      <td>0.663000</td>\n",
       "      <td>0.261000</td>\n",
       "    </tr>\n",
       "    <tr>\n",
       "      <th>75%</th>\n",
       "      <td>2018.000000</td>\n",
       "      <td>6.309500</td>\n",
       "      <td>10.373500</td>\n",
       "      <td>0.905000</td>\n",
       "      <td>68.500000</td>\n",
       "      <td>0.859000</td>\n",
       "      <td>0.092000</td>\n",
       "      <td>0.869000</td>\n",
       "      <td>0.738000</td>\n",
       "      <td>0.323000</td>\n",
       "    </tr>\n",
       "    <tr>\n",
       "      <th>max</th>\n",
       "      <td>2022.000000</td>\n",
       "      <td>8.019000</td>\n",
       "      <td>11.664000</td>\n",
       "      <td>0.987000</td>\n",
       "      <td>74.475000</td>\n",
       "      <td>0.985000</td>\n",
       "      <td>0.703000</td>\n",
       "      <td>0.983000</td>\n",
       "      <td>0.884000</td>\n",
       "      <td>0.705000</td>\n",
       "    </tr>\n",
       "  </tbody>\n",
       "</table>\n",
       "</div>"
      ],
      "text/plain": [
       "              Year  Happiness Score  GDP per Capita  Social Support  \\\n",
       "count  2199.000000      2199.000000     2179.000000     2186.000000   \n",
       "mean   2014.161437         5.479227        9.389760        0.810681   \n",
       "std       4.718736         1.125527        1.153402        0.120953   \n",
       "min    2005.000000         1.281000        5.527000        0.228000   \n",
       "25%    2010.000000         4.647000        8.500000        0.747000   \n",
       "50%    2014.000000         5.432000        9.499000        0.836000   \n",
       "75%    2018.000000         6.309500       10.373500        0.905000   \n",
       "max    2022.000000         8.019000       11.664000        0.987000   \n",
       "\n",
       "       Life Expectancy      Freedom      Charity  Corruption Perception  \\\n",
       "count      2145.000000  2166.000000  2126.000000            2083.000000   \n",
       "mean         63.294582     0.747847     0.000091               0.745208   \n",
       "std           6.901104     0.140137     0.161079               0.185835   \n",
       "min           6.720000     0.258000    -0.338000               0.035000   \n",
       "25%          59.120000     0.656250    -0.112000               0.688000   \n",
       "50%          65.050000     0.770000    -0.023000               0.800000   \n",
       "75%          68.500000     0.859000     0.092000               0.869000   \n",
       "max          74.475000     0.985000     0.703000               0.983000   \n",
       "\n",
       "       Positive Emotions  Negative Emotions  \n",
       "count        2175.000000        2183.000000  \n",
       "mean            0.652148           0.271493  \n",
       "std             0.105913           0.086872  \n",
       "min             0.179000           0.083000  \n",
       "25%             0.572000           0.208000  \n",
       "50%             0.663000           0.261000  \n",
       "75%             0.738000           0.323000  \n",
       "max             0.884000           0.705000  "
      ]
     },
     "execution_count": 30,
     "metadata": {},
     "output_type": "execute_result"
    }
   ],
   "source": [
    "# Descriptive statistics\n",
    "\n",
    "df.describe()"
   ]
  },
  {
   "cell_type": "markdown",
   "id": "51186398",
   "metadata": {},
   "source": [
    "### Observation:\n",
    "\n",
    "Everything seems ok"
   ]
  },
  {
   "cell_type": "code",
   "execution_count": 31,
   "id": "6a14ce80",
   "metadata": {},
   "outputs": [],
   "source": [
    "# Export\n",
    "\n",
    "df.to_csv(os.path.join(path, 'Open Data Source','Cleaned Data', 'WHR (2008-2022)_checked.csv'))"
   ]
  }
 ],
 "metadata": {
  "kernelspec": {
   "display_name": "Python 3 (ipykernel)",
   "language": "python",
   "name": "python3"
  },
  "language_info": {
   "codemirror_mode": {
    "name": "ipython",
    "version": 3
   },
   "file_extension": ".py",
   "mimetype": "text/x-python",
   "name": "python",
   "nbconvert_exporter": "python",
   "pygments_lexer": "ipython3",
   "version": "3.9.13"
  }
 },
 "nbformat": 4,
 "nbformat_minor": 5
}
